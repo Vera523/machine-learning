{
 "cells": [
  {
   "cell_type": "code",
   "execution_count": 1,
   "metadata": {},
   "outputs": [],
   "source": [
    "import numpy as np"
   ]
  },
  {
   "cell_type": "code",
   "execution_count": 2,
   "metadata": {},
   "outputs": [],
   "source": [
    "def loadDataSet():\n",
    "    \"\"\"\n",
    "    Create dataset\n",
    "    \n",
    "    Returns:\n",
    "        posting list and classVec\n",
    "    \"\"\"\n",
    "    postingList = [['my','dog','has','flea','problems','help','please'],\n",
    "                  ['maybe','not','take','him','to','dog','park','stupid'],\n",
    "                  ['my','dalmation','is','so','cute','I','love','him'],\n",
    "                  ['stop','posting','stupid','worthless','grabage'],\n",
    "                  ['mr','licks','ate','my','steak','how','to','stop','him'],\n",
    "                  ['quit','buying','worthless','dog','food','stupid']]\n",
    "    classVec = np.array([0,1,0,1,0,1]) # 1 is absive,0 not\n",
    "    \n",
    "    return postingList,classVec"
   ]
  },
  {
   "cell_type": "code",
   "execution_count": 3,
   "metadata": {},
   "outputs": [],
   "source": [
    "postinglist,y = loadDataSet()"
   ]
  },
  {
   "cell_type": "code",
   "execution_count": 4,
   "metadata": {},
   "outputs": [
    {
     "data": {
      "text/plain": [
       "[['my', 'dog', 'has', 'flea', 'problems', 'help', 'please'],\n",
       " ['maybe', 'not', 'take', 'him', 'to', 'dog', 'park', 'stupid'],\n",
       " ['my', 'dalmation', 'is', 'so', 'cute', 'I', 'love', 'him'],\n",
       " ['stop', 'posting', 'stupid', 'worthless', 'grabage'],\n",
       " ['mr', 'licks', 'ate', 'my', 'steak', 'how', 'to', 'stop', 'him'],\n",
       " ['quit', 'buying', 'worthless', 'dog', 'food', 'stupid']]"
      ]
     },
     "execution_count": 4,
     "metadata": {},
     "output_type": "execute_result"
    }
   ],
   "source": [
    "postinglist"
   ]
  },
  {
   "cell_type": "code",
   "execution_count": null,
   "metadata": {},
   "outputs": [],
   "source": []
  },
  {
   "cell_type": "code",
   "execution_count": 7,
   "metadata": {},
   "outputs": [],
   "source": [
    "import numpy as np\n",
    "import pandas as pd"
   ]
  },
  {
   "cell_type": "code",
   "execution_count": 10,
   "metadata": {},
   "outputs": [
    {
     "ename": "IndentationError",
     "evalue": "unexpected indent (<ipython-input-10-a657cae3eb09>, line 10)",
     "output_type": "error",
     "traceback": [
      "\u001b[1;36m  File \u001b[1;32m\"<ipython-input-10-a657cae3eb09>\"\u001b[1;36m, line \u001b[1;32m10\u001b[0m\n\u001b[1;33m    print(X.shape)\u001b[0m\n\u001b[1;37m    ^\u001b[0m\n\u001b[1;31mIndentationError\u001b[0m\u001b[1;31m:\u001b[0m unexpected indent\n"
     ]
    }
   ],
   "source": [
    "def create_data():\n",
    "    iris = load_iris()\n",
    "    df = pd.DataFrame(iris.data, columns=iris.feature_names)\n",
    "    df['label'] = iris.target\n",
    "    df.columns = ['sepal length', 'sepal width', 'petal length', 'petal width', 'label']\n",
    "    data = np.array(df.iloc[:100, [0, 1, -1]])\n",
    "    return data[:,:2], data[:,-1]\n",
    "\n",
    "X, y = create_data()\n"
   ]
  },
  {
   "cell_type": "code",
   "execution_count": 12,
   "metadata": {},
   "outputs": [
    {
     "name": "stdout",
     "output_type": "stream",
     "text": [
      "[0. 0. 0. 0. 0. 0. 0. 0. 0. 0. 0. 0. 0. 0. 0. 0. 0. 0. 0. 0. 0. 0. 0. 0.\n",
      " 0. 0. 0. 0. 0. 0. 0. 0. 0. 0. 0. 0. 0. 0. 0. 0. 0. 0. 0. 0. 0. 0. 0. 0.\n",
      " 0. 0. 1. 1. 1. 1. 1. 1. 1. 1. 1. 1. 1. 1. 1. 1. 1. 1. 1. 1. 1. 1. 1. 1.\n",
      " 1. 1. 1. 1. 1. 1. 1. 1. 1. 1. 1. 1. 1. 1. 1. 1. 1. 1. 1. 1. 1. 1. 1. 1.\n",
      " 1. 1. 1. 1.]\n"
     ]
    }
   ],
   "source": [
    "print(y)"
   ]
  },
  {
   "cell_type": "code",
   "execution_count": 24,
   "metadata": {},
   "outputs": [
    {
     "name": "stdout",
     "output_type": "stream",
     "text": [
      "(80, 2)\n"
     ]
    }
   ],
   "source": [
    "from sklearn.model_selection import train_test_split\n",
    "X_train, X_test, y_train, y_test = train_test_split(X,y,test_size = 0.2)\n",
    "print(X_train.shape)"
   ]
  },
  {
   "cell_type": "code",
   "execution_count": 25,
   "metadata": {},
   "outputs": [
    {
     "name": "stdout",
     "output_type": "stream",
     "text": [
      "[0. 1. 1. 1. 1. 0. 1. 0. 0. 0. 1. 0. 1. 0. 0. 0. 0. 0. 1. 0.]\n",
      "0.8\n"
     ]
    }
   ],
   "source": [
    "\n",
    "from sklearn.naive_bayes import MultinomialNB\n",
    "#初始化\n",
    "clf = MultinomialNB()\n",
    "#训练\n",
    "clf.fit(X_train,y_train)\n",
    "#预测\n",
    "prdeict = clf.predict(X_test)\n",
    "print(prdeict)\n",
    "#评分\n",
    "score = clf.score(X_test,y_test)\n",
    "print(score)"
   ]
  },
  {
   "cell_type": "code",
   "execution_count": 23,
   "metadata": {},
   "outputs": [
    {
     "name": "stdout",
     "output_type": "stream",
     "text": [
      "[1. 0. 0. 0. 1. 1. 0. 0. 0. 0. 0. 1. 0. 0. 0. 1. 1. 1. 1. 1.]\n",
      "0.95\n"
     ]
    }
   ],
   "source": [
    "#高斯预测\n",
    "from sklearn.naive_bayes import GaussianNB\n",
    "#初始化\n",
    "clf = GaussianNB()\n",
    "#训练\n",
    "clf.fit(X_train,y_train)\n",
    "#预测\n",
    "print(clf.predict(X_test))\n",
    "#评分\n",
    "score = clf.score(X_test,y_test)\n",
    "print(score)"
   ]
  },
  {
   "cell_type": "code",
   "execution_count": 26,
   "metadata": {},
   "outputs": [],
   "source": [
    "def loadData(path):\n",
    "    \"\"\"\n",
    "    load data\n",
    "    \n",
    "    Return:\n",
    "    ------\n",
    "        1.Train_data is numpy.\n",
    "        2.labels; as same as numpy.\n",
    "    \"\"\"\n",
    "    Train_data = []\n",
    "    labels = []\n",
    "    np.random.shuffle\n",
    "    \n",
    "    with open(path) as f:\n",
    "        \n",
    "        original_data = f.readlines()\n",
    "        \n",
    "    for data in original_data:\n",
    "        data_split = data.strip().split('\\t')\n",
    "        train_ = data_split[:-1]\n",
    "        label_ = data_split[-1]\n",
    "        Train_data.append(train_)\n",
    "        labels.append(label_)\n",
    "    \n",
    "    \n",
    "    return np.array(Train_data,dtype='float'),np.array(labels)"
   ]
  },
  {
   "cell_type": "code",
   "execution_count": 27,
   "metadata": {},
   "outputs": [],
   "source": [
    "path = \"data_set/datingTestSet.txt\"\n",
    "X,y = loadData(path=path)"
   ]
  },
  {
   "cell_type": "code",
   "execution_count": 29,
   "metadata": {},
   "outputs": [
    {
     "data": {
      "text/plain": [
       "(1000,)"
      ]
     },
     "execution_count": 29,
     "metadata": {},
     "output_type": "execute_result"
    }
   ],
   "source": [
    "X.shape\n",
    "y.shape"
   ]
  },
  {
   "cell_type": "code",
   "execution_count": 30,
   "metadata": {},
   "outputs": [
    {
     "name": "stdout",
     "output_type": "stream",
     "text": [
      "(800, 3)\n"
     ]
    }
   ],
   "source": [
    "from sklearn.model_selection import train_test_split\n",
    "X_train, X_test, y_train, y_test = train_test_split(X,y,test_size = 0.2)\n",
    "print(X_train.shape)"
   ]
  },
  {
   "cell_type": "code",
   "execution_count": 31,
   "metadata": {},
   "outputs": [
    {
     "name": "stdout",
     "output_type": "stream",
     "text": [
      "['didntLike' 'smallDoses' 'didntLike' 'largeDoses' 'smallDoses'\n",
      " 'didntLike' 'largeDoses' 'didntLike' 'smallDoses' 'largeDoses'\n",
      " 'didntLike' 'didntLike' 'didntLike' 'smallDoses' 'smallDoses' 'didntLike'\n",
      " 'smallDoses' 'largeDoses' 'smallDoses' 'smallDoses' 'smallDoses'\n",
      " 'didntLike' 'largeDoses' 'didntLike' 'didntLike' 'didntLike' 'didntLike'\n",
      " 'largeDoses' 'didntLike' 'largeDoses' 'smallDoses' 'largeDoses'\n",
      " 'largeDoses' 'largeDoses' 'largeDoses' 'smallDoses' 'didntLike'\n",
      " 'smallDoses' 'didntLike' 'didntLike' 'didntLike' 'didntLike' 'didntLike'\n",
      " 'smallDoses' 'smallDoses' 'smallDoses' 'smallDoses' 'smallDoses'\n",
      " 'largeDoses' 'smallDoses' 'largeDoses' 'smallDoses' 'didntLike'\n",
      " 'largeDoses' 'didntLike' 'smallDoses' 'smallDoses' 'smallDoses'\n",
      " 'largeDoses' 'largeDoses' 'didntLike' 'smallDoses' 'largeDoses'\n",
      " 'largeDoses' 'smallDoses' 'largeDoses' 'didntLike' 'smallDoses'\n",
      " 'smallDoses' 'largeDoses' 'didntLike' 'smallDoses' 'didntLike'\n",
      " 'smallDoses' 'didntLike' 'smallDoses' 'largeDoses' 'largeDoses'\n",
      " 'largeDoses' 'didntLike' 'smallDoses' 'smallDoses' 'smallDoses'\n",
      " 'didntLike' 'didntLike' 'didntLike' 'largeDoses' 'didntLike' 'didntLike'\n",
      " 'largeDoses' 'smallDoses' 'smallDoses' 'smallDoses' 'smallDoses'\n",
      " 'smallDoses' 'largeDoses' 'largeDoses' 'didntLike' 'didntLike'\n",
      " 'didntLike' 'didntLike' 'largeDoses' 'smallDoses' 'didntLike'\n",
      " 'smallDoses' 'largeDoses' 'didntLike' 'didntLike' 'didntLike'\n",
      " 'smallDoses' 'largeDoses' 'smallDoses' 'didntLike' 'smallDoses'\n",
      " 'largeDoses' 'largeDoses' 'didntLike' 'didntLike' 'smallDoses'\n",
      " 'largeDoses' 'largeDoses' 'didntLike' 'largeDoses' 'smallDoses'\n",
      " 'largeDoses' 'smallDoses' 'largeDoses' 'smallDoses' 'smallDoses'\n",
      " 'largeDoses' 'largeDoses' 'didntLike' 'didntLike' 'largeDoses'\n",
      " 'smallDoses' 'smallDoses' 'didntLike' 'didntLike' 'largeDoses'\n",
      " 'largeDoses' 'largeDoses' 'largeDoses' 'smallDoses' 'largeDoses'\n",
      " 'smallDoses' 'smallDoses' 'didntLike' 'smallDoses' 'didntLike'\n",
      " 'smallDoses' 'didntLike' 'smallDoses' 'didntLike' 'smallDoses'\n",
      " 'smallDoses' 'didntLike' 'largeDoses' 'largeDoses' 'smallDoses'\n",
      " 'smallDoses' 'largeDoses' 'smallDoses' 'largeDoses' 'didntLike'\n",
      " 'largeDoses' 'smallDoses' 'smallDoses' 'smallDoses' 'didntLike'\n",
      " 'smallDoses' 'didntLike' 'largeDoses' 'largeDoses' 'smallDoses'\n",
      " 'smallDoses' 'largeDoses' 'smallDoses' 'didntLike' 'largeDoses'\n",
      " 'largeDoses' 'largeDoses' 'smallDoses' 'largeDoses' 'didntLike'\n",
      " 'didntLike' 'smallDoses' 'largeDoses' 'didntLike' 'smallDoses'\n",
      " 'didntLike' 'didntLike' 'smallDoses' 'smallDoses' 'didntLike'\n",
      " 'smallDoses' 'didntLike' 'largeDoses' 'didntLike' 'didntLike' 'didntLike']\n",
      "0.905\n"
     ]
    }
   ],
   "source": [
    "from sklearn.naive_bayes import GaussianNB\n",
    "clf = GaussianNB() #初始化\n",
    "clf.fit(X_train,y_train) #训练\n",
    "print(clf.predict(X_test)) #预测\n",
    "score = clf.score(X_test,y_test) #评分\n",
    "print(score)"
   ]
  },
  {
   "cell_type": "code",
   "execution_count": null,
   "metadata": {},
   "outputs": [],
   "source": []
  }
 ],
 "metadata": {
  "kernelspec": {
   "display_name": "Python 3",
   "language": "python",
   "name": "python3"
  },
  "language_info": {
   "codemirror_mode": {
    "name": "ipython",
    "version": 3
   },
   "file_extension": ".py",
   "mimetype": "text/x-python",
   "name": "python",
   "nbconvert_exporter": "python",
   "pygments_lexer": "ipython3",
   "version": "3.6.4"
  }
 },
 "nbformat": 4,
 "nbformat_minor": 2
}
